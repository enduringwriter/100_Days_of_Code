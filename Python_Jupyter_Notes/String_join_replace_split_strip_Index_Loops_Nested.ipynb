{
 "cells": [
  {
   "cell_type": "code",
   "execution_count": 81,
   "id": "ab8599c6",
   "metadata": {},
   "outputs": [
    {
     "name": "stdout",
     "output_type": "stream",
     "text": [
      ".join method to combine strings\n",
      "\n",
      "original values x y: Texas USA\n",
      "\n",
      "UTexasSTexasA \t\t x.join(y)\n",
      "TexasUSA \t\t ''.join(x+y)\n",
      "T e x a s U S A \t ' '.join(x+y)\n",
      "Texas USA \t\t ''.join(x+' '+y)\n",
      "\n",
      "TexasUSA \t\t x+y\n",
      "Texas USA \t\t x,y\n"
     ]
    }
   ],
   "source": [
    "# .join method to combine strings\n",
    "print('.join method to combine strings', end='\\n'*2)\n",
    "\n",
    "x = 'Texas'\n",
    "y = 'USA'\n",
    "\n",
    "print('original values x y:', x, y, end='\\n'*2)\n",
    "\n",
    "print(x.join(y), '\\t'*2, 'x.join(y)')\n",
    "print(''.join(x+y), '\\t'*2, \"''.join(x+y)\")\n",
    "print(' '.join(x+y), '\\t', \"' '.join(x+y)\")\n",
    "print(''.join(x+' '+y), '\\t'*2, \"''.join(x+' '+y)\", end='\\n'*2)\n",
    "\n",
    "print(x+y, '\\t'*2, 'x+y')\n",
    "print(x,y, '\\t'*2, 'x,y')"
   ]
  },
  {
   "cell_type": "code",
   "execution_count": 4,
   "id": "c3dfa491",
   "metadata": {},
   "outputs": [
    {
     "name": "stdout",
     "output_type": "stream",
     "text": [
      ".join method to modify strings\n",
      "\n",
      "Numbers, Strings, and Tupples are immutable but Lists and Dictionaries are mutable.\n",
      "Therefore, convert string to a list to modify the variable. \n",
      "\n",
      "\n",
      "Texas \t\t\t\t Original String\n",
      "['T', 'e', 'x', 'a', 's'] \t Converted to a List\n",
      "\n",
      "Using index to change list\n",
      "['M', 'e', 'x', 'a', 's'] \t Modified List\n",
      "Mexas \t\t\t\t .join method applied\n",
      "\n",
      "Indexing can be applied to 'joined' variables.\n",
      "\n",
      "Index applied to joined word Mexas to revert back to original variable\n",
      "Texas \t\t\t\t .join method applied after index assignment 'list_x[0]='T'\n",
      "\n"
     ]
    }
   ],
   "source": [
    "# .join method to modify strings\n",
    "print('.join method to modify strings', end='\\n'*2)\n",
    "\n",
    "x = 'Texas'\n",
    "y = 'USA'\n",
    "z = 'j'\n",
    "\n",
    "print(\"\"\"Numbers, Strings, and Tupples are immutable but Lists and Dictionaries are mutable.\n",
    "Therefore, convert string to a list to modify the variable. \n",
    "\"\"\", end='\\n'*2)\n",
    "\n",
    "# x[0] = 'M'     # error b/c numbers, strings, and tuples (NeSTs) are immutable\n",
    "\n",
    "list_x = list(x)\n",
    "print(x, '\\t'*4, 'Original String')\n",
    "print(list_x, '\\t', 'Converted to a List', end='\\n'*2)\n",
    "\n",
    "print('Using index to change list')\n",
    "list_x[0]='M'\n",
    "print(list_x, '\\t', 'Modified List')\n",
    "print(''.join(list_x), '\\t'*4, '.join method applied', end='\\n'*2)\n",
    "\n",
    "print(\"Indexing can be applied to 'joined' variables.\", end='\\n'*2)\n",
    "\n",
    "print('Index applied to joined word {} to revert back to original variable'.format(''.join(list_x)))\n",
    "list_x[0]='T'\n",
    "\n",
    "print(''.join(list_x), '\\t'*4, \".join method applied after index assignment 'list_x[0]='T'\", end='\\n'*2)"
   ]
  },
  {
   "cell_type": "code",
   "execution_count": 13,
   "id": "4efa13d7",
   "metadata": {},
   "outputs": [
    {
     "name": "stdout",
     "output_type": "stream",
     "text": [
      ".join vs Loop and Nested Loop\n",
      "\n",
      "Methods to output 'USA' chants in an 8x2 block\n",
      "\n",
      "Manual Entry into Print\n",
      "USA!USA!USA!USA!USA!USA!USA!USA!\n",
      "USA!USA!USA!USA!USA!USA!USA!USA!\n",
      "\n",
      "Method 1 - two loops, print called for column and row\n",
      "USA!USA!USA!USA!USA!USA!USA!USA!\n",
      "USA!USA!USA!USA!USA!USA!USA!USA!\n",
      "\n",
      "Method 2 - one loop, print called for row\n",
      "USA!USA!USA!USA!USA!USA!USA!USA!\n",
      "USA!USA!USA!USA!USA!USA!USA!USA!\n",
      "\n",
      "Method 3 - one loop, one print call\n",
      "USA!USA!USA!USA!USA!USA!USA!USA!\n",
      "USA!USA!USA!USA!USA!USA!USA!USA!\n",
      "\n",
      "\n",
      "Method 4 - .join method, no loops, one print call\n",
      "USA!USA!USA!USA!USA!USA!USA!USA!\n",
      "USA!USA!USA!USA!USA!USA!USA!USA!\n",
      "\n",
      ".join works with Lists.\n",
      "['USA!USA!USA!USA!USA!USA!USA!USA!', 'USA!USA!USA!USA!USA!USA!USA!USA!']\n"
     ]
    }
   ],
   "source": [
    "# .join vs Loop and Nested Loop\n",
    "print('.join vs Loop and Nested Loop', end='\\n'*2)\n",
    "\n",
    "print(\"Methods to output 'USA' chants in an 8x2 block\", end='\\n'*2)\n",
    "\n",
    "print('Manual Entry into Print')\n",
    "print('USA!'*8, 'USA!'*8, sep='\\n', end='\\n'*2)\n",
    "\n",
    "# method 1 - slowest approach, which prints each chracter individually\n",
    "print('Method 1 - two loops, print called for column and row')\n",
    "for x in range(2):\n",
    "    for y in range(8):\n",
    "        print('USA!', end='')\n",
    "    print()\n",
    "print('', end='\\n')\n",
    "\n",
    "# method 2 - better approach by printing a full row of USA! chants\n",
    "print('Method 2 - one loop, print called for row')\n",
    "row_of_patriotism = 'USA!'*8\n",
    "for x in range(2):\n",
    "    print(row_of_patriotism)\n",
    "print('', end='\\n')\n",
    "\n",
    "# method 3 - faster approach calls the print function only once, after having assembled the large output\n",
    "print('Method 3 - one loop, one print call')\n",
    "row_of_patriotism = 'USA!'*8\n",
    "patriotism = ''\n",
    "for x in range(2):\n",
    "    patriotism += row_of_patriotism + '\\n'     # creates new line after reach row\n",
    "print(patriotism)\n",
    "print('', end='\\n')\n",
    "\n",
    "# method 4 - faster approach using join method\n",
    "print('Method 4 - .join method, no loops, one print call')\n",
    "print('\\n'.join(['USA!'*8]*2), end='\\n'*2)     #if () is used in place of [], output is one long column\n",
    "print('.join works with Lists.', ['USA!'*8]*2, sep='\\n')"
   ]
  },
  {
   "cell_type": "code",
   "execution_count": 14,
   "id": "07832adc",
   "metadata": {},
   "outputs": [
    {
     "name": "stdout",
     "output_type": "stream",
     "text": [
      ".join str(integers)\n",
      "\n",
      "1005\n",
      "1,0,0,5\n",
      "105\n",
      "105 <class 'str'>\n"
     ]
    }
   ],
   "source": [
    "# .join str(integers)\n",
    "print('.join str(integers)', end='\\n'*2)\n",
    "\n",
    "x=100\n",
    "y=5\n",
    "print(''.join(str(x)+str(y)))\n",
    "print(','.join(str(x)+str(y)))\n",
    "print(''.join(str(x+y)))\n",
    "a=''.join(str(x+y))\n",
    "print(a, type(a))\n"
   ]
  },
  {
   "cell_type": "code",
   "execution_count": 2,
   "id": "ffe6adb7",
   "metadata": {},
   "outputs": [
    {
     "name": "stdout",
     "output_type": "stream",
     "text": [
      "spameggs\n",
      "spameggs\n"
     ]
    }
   ],
   "source": [
    "# bytearray to join strings\n",
    "\n",
    "b = bytearray(b'spam')\n",
    "b.extend(b'eggs')\n",
    "print(b.decode())"
   ]
  },
  {
   "cell_type": "code",
   "execution_count": 3,
   "id": "c4fe10c8",
   "metadata": {},
   "outputs": [
    {
     "name": "stdout",
     "output_type": "stream",
     "text": [
      "spameggs\n"
     ]
    }
   ],
   "source": [
    "# concatenation to join strings\n",
    "\n",
    "c = 'spam'\n",
    "d = 'eggs'\n",
    "print(c+d)"
   ]
  },
  {
   "cell_type": "code",
   "execution_count": 15,
   "id": "e37ea0bb",
   "metadata": {},
   "outputs": [
    {
     "name": "stdout",
     "output_type": "stream",
     "text": [
      ".replace a string\n",
      "\n",
      "Go USA\n",
      "Go Team USA\n",
      "\n",
      "Texas\n",
      "Tejas\n",
      "Texas\n",
      "\n",
      "Tex\n"
     ]
    }
   ],
   "source": [
    "# .replace a string\n",
    "print('.replace a string', end='\\n'*2)\n",
    "\n",
    "x = 'Go USA'\n",
    "y = 'Texas'\n",
    "z = 'j'\n",
    "\n",
    "print(x)\n",
    "print(x.replace(' ', ' Team '), sep='\\n', end='\\n'*2)\n",
    "print(y)\n",
    "print(y.replace('x',z), sep='\\n')\n",
    "print(y, end='\\n'*2)\n",
    "\n",
    "a = y.replace('as', '')\n",
    "print(a)"
   ]
  },
  {
   "cell_type": "code",
   "execution_count": 19,
   "id": "77ee801c",
   "metadata": {},
   "outputs": [
    {
     "name": "stdout",
     "output_type": "stream",
     "text": [
      ".replace str(integer)\n",
      "\n",
      "757 \t <class 'int'>\n",
      "777 \t str(x).replace('5','7')\n",
      "757 \t <class 'int'> \t str().replace in print fuction doesn't change variable\n",
      "\n",
      "757 \t <class 'int'>\n",
      "777 \t <class 'str'>\n",
      "777 \t <class 'int'>\n"
     ]
    }
   ],
   "source": [
    "# .replace str(integer)\n",
    "print('.replace str(integer)', end='\\n'*2)\n",
    "\n",
    "x = 757\n",
    "y = 7\n",
    "\n",
    "print(x, '\\t', type(x))\n",
    "print(str(x).replace('5','7'), '\\t', \"str(x).replace('5','7')\")\n",
    "print(x, '\\t', type(x), '\\t', 'str().replace in print fuction doesn\\'t change variable', end='\\n'*2)\n",
    "\n",
    "z=str(x)\n",
    "print(z, '\\t', type(x))\n",
    "z = str(z).replace('5', '7')\n",
    "print(z, '\\t', type(z))\n",
    "z = int(z)\n",
    "print(z, '\\t', type(z))"
   ]
  },
  {
   "cell_type": "code",
   "execution_count": 20,
   "id": "59779b7e",
   "metadata": {},
   "outputs": [
    {
     "name": "stdout",
     "output_type": "stream",
     "text": [
      "continue in for loop to replace or remove a substring\n",
      "T\n",
      "e\n",
      "x\n",
      "s\n",
      " \n",
      "T\n",
      "e\n",
      "m\n",
      " \n",
      "U\n",
      "S\n",
      "A\n",
      "['T', 'e', 'x', 's', ' ', 'T', 'e', 'm', ' ', 'U', 'S', 'A']\n",
      "Texs Tem USA\n",
      "['Texs Tem USA']\n"
     ]
    }
   ],
   "source": [
    "# continue in for loop to replace or remove a substring\n",
    "print('continue in for loop to replace or remove a substring')\n",
    "\n",
    "new_list = []\n",
    "for val in \"Texas Team USA\":\n",
    "    if val == 'a':     # if val = \"a\" then go to next iteration in string\n",
    "        continue\n",
    "    new_list.append(val)\n",
    "    print(val)\n",
    "print(new_list)\n",
    "print(\"\".join(new_list))\n",
    "a = [\"\".join(new_list)]\n",
    "print(a)"
   ]
  },
  {
   "cell_type": "code",
   "execution_count": 26,
   "id": "f1734a16",
   "metadata": {},
   "outputs": [
    {
     "name": "stdout",
     "output_type": "stream",
     "text": [
      ".split a string to a list\n",
      "\n",
      ".split a string into a list of items, seperated by ,\n",
      "Texas, USA, World Cup \t\t original string\n",
      "['Texas', ' USA', ' World Cup']\n",
      "\n",
      "string concatenated (joined together) using '+'\n",
      " USA World Cup\n",
      "\n",
      ".strip removes leading and trialing whitespaces\n",
      "USA World Cup\n",
      "USA World Cup\n",
      "\n",
      "\n",
      ".split a string into a list of items, seperated by a space ''\n",
      "Texas is the Greatest State\n",
      "['Texas', 'is', 'the', 'Greatest', 'State']\n",
      "\n",
      "string concatenated (joined together) using '+'\n",
      "TexasisGreatest \t sep=' ' doesn't work\n",
      "\n",
      "string concatenated (joined together) using ','\n",
      "Texas is Greatest\n"
     ]
    }
   ],
   "source": [
    "# .split a string to a list\n",
    "print('.split a string to a list', end='\\n'*2)\n",
    "\n",
    "print('.split a string into a list of items, seperated by ,')\n",
    "location = 'Texas, USA, World Cup'\n",
    "print(location, '\\t'*2, 'original string')\n",
    "location_list = location.split(',')\n",
    "print(location_list, end='\\n'*2)\n",
    "\n",
    "print(\"string concatenated (joined together) using '+'\")\n",
    "print(location_list[1] + location_list[2], end='\\n'*2)\n",
    "\n",
    "print('.strip removes leading and trialing whitespaces')\n",
    "print(location_list[1].lstrip() + location_list[2].rstrip())\n",
    "print(location_list[1].strip(), location_list[2].strip(), sep=' ', end='\\n'*3)\n",
    "\n",
    "print(\".split a string into a list of items, seperated by a space ''\")\n",
    "greatest = 'Texas is the Greatest State'\n",
    "print(greatest)\n",
    "greatest_list = greatest.split(' ')\n",
    "print(greatest_list, end='\\n'*2)\n",
    "\n",
    "print(\"string concatenated (joined together) using '+'\")\n",
    "print(greatest_list[0] + greatest_list[1] + greatest_list[3], '\\t', \"sep=' ' doesn't work\", sep=' ', end='\\n'*2)\n",
    "print(\"string concatenated (joined together) using ','\")\n",
    "print(greatest_list[0], greatest_list[1], greatest_list[3], sep=' ')"
   ]
  },
  {
   "cell_type": "code",
   "execution_count": 9,
   "id": "144e3998",
   "metadata": {},
   "outputs": [
    {
     "name": "stdout",
     "output_type": "stream",
     "text": [
      ".strip removes leading and trialing whitespaces\n",
      "and beginning/end variables in a string\n",
      "\n",
      "Go Team USA \t\t original string\n",
      " Team USA \t\t .strip first sequence\n",
      "Team USA \t\t .strip first sequence and .strip() left white space\n",
      "Go Team  \t\t .strip last sequence\n",
      "Go Team USA \t\t .strip does not apply to sequences between the first and the last\n"
     ]
    }
   ],
   "source": [
    "# .strip removes leading and trialing whitespaces and beginning/end variables in a string\n",
    "print(\"\"\".strip removes leading and trialing whitespaces\n",
    "and beginning/end variables in a string\"\"\", end='\\n'*2)\n",
    "\n",
    "team_chant = 'Go Team USA'\n",
    "print(team_chant, '\\t'*2, 'original string')\n",
    "print(team_chant.strip('Go'), '\\t'*2, '.strip first sequence')\n",
    "print((team_chant.strip('Go')).strip(), '\\t'*2, '.strip first sequence and .strip() left white space')\n",
    "print(team_chant.strip('USA'), '\\t'*2, '.strip last sequence')\n",
    "print(team_chant.strip('Team'), '\\t'*2, '.strip does not apply to sequences between the first and the last')"
   ]
  },
  {
   "cell_type": "code",
   "execution_count": 30,
   "id": "481517d1",
   "metadata": {},
   "outputs": [
    {
     "name": "stdout",
     "output_type": "stream",
     "text": [
      ".join .split with loop and without loop\n",
      "\n",
      ".join without .split\n",
      "G!o! !T!e!a!m! !U!S!A \t .join w/o loop\n",
      "\n",
      "G!o! !T!e!a!m! !U!S!A! \t .join w loop\n",
      "\n",
      ".join with .split\n",
      "Go! Team! USA \t .join w/o loop\n",
      "\n",
      "Go! Team! USA! \t .join w loop\n",
      "\n"
     ]
    }
   ],
   "source": [
    "# .join .split with loop and without loop\n",
    "print('.join .split with loop and without loop', end='\\n'*2)\n",
    "\n",
    "x = 'Go Team USA'\n",
    "teamchant1 = x\n",
    "teamchant2 = x\n",
    "teamchant3 = x.split(' ')\n",
    "teamchant4 = x.split(' ')\n",
    "\n",
    "print('.join without .split')\n",
    "teamchant1 = '!'.join(teamchant1)\n",
    "print(teamchant1, '\\t','.join w/o loop', end='\\n'*2)\n",
    "\n",
    "teamchant2 = ''.join([i + '!' for i in teamchant2])\n",
    "print(teamchant2, '\\t','.join w loop', end='\\n'*2)\n",
    "\n",
    "print('.join with .split')\n",
    "teamchant3 = '! '.join(teamchant3)\n",
    "print(teamchant3, '\\t','.join w/o loop', end='\\n'*2)\n",
    "\n",
    "teamchant4 = ' '.join([i + '!' for i in teamchant4])\n",
    "print(teamchant4, '\\t', '.join w loop', end='\\n'*2)"
   ]
  },
  {
   "cell_type": "code",
   "execution_count": 27,
   "id": "a466130a",
   "metadata": {},
   "outputs": [
    {
     "name": "stdout",
     "output_type": "stream",
     "text": [
      "Index and .join loop\n",
      "\n",
      "Team USA \t Team Name\n",
      "8 \t\t length of string\n",
      "T A \t\t index of first and last letter of string\n",
      "\n",
      "slice team name into a shorter team name using [:]\n",
      "USA \t\t Team Name\n",
      "\n",
      "add variable to each letter in a string using: join & loop, join & end, join & \\b\n",
      "U!S!A!\n",
      "U!S!A!\n",
      "U!S!A!! \b\b\n"
     ]
    }
   ],
   "source": [
    "# Index and .join loop\n",
    "print('Index and .join loop', end='\\n'*2)\n",
    "\n",
    "team_name = 'Team USA'\n",
    "\n",
    "print(team_name, '\\t', 'Team Name')\n",
    "print(len(team_name), '\\t'*2, 'length of string')\n",
    "print(team_name[0], team_name[7], '\\t'*2, 'index of first and last letter of string', end='\\n'*2)\n",
    "\n",
    "print('slice team name into a shorter team name using [:]')\n",
    "short_team_name = team_name[5:]     #or team_name[-3:]\n",
    "print(short_team_name, '\\t'*2, 'Team Name', end='\\n'*2)\n",
    "\n",
    "print('add variable to each letter in a string using: join & loop, join & end, join & \\\\b')\n",
    "teamchant = ''.join([i + '!' for i in short_team_name])\n",
    "print(teamchant)\n",
    "print('!'.join(short_team_name), end='!\\n')\n",
    "print('!'.join(short_team_name+'!'),'\\b'*2)"
   ]
  },
  {
   "cell_type": "code",
   "execution_count": 12,
   "id": "426822dd",
   "metadata": {},
   "outputs": [
    {
     "name": "stdout",
     "output_type": "stream",
     "text": [
      "Index [:]\n",
      "\n",
      "Team USA \t\t Full Team Name\n",
      "8 \t\t\t length of string\n",
      "\n",
      "variable_x[i:j] means output everything in variable_x from offest i up to but not including offset j\n",
      "Team USA \t\t [:] output full everything\n",
      "T \t\t\t [0] first letter\n",
      "T \t\t\t [0:1] first letter, output from 0 upto but not including 1\n",
      "e \t\t\t [1] second letter\n",
      " \t\t\t [0:0] output from 0 upto but not including 0\n",
      "e \t\t\t [1:2] second letter, output from 1 upto but not including 2\n",
      "Te \t\t\t [0:2] first two letters\n",
      "am \t\t\t [2:4] letters 2 and 3, output from 2 upto but not including 4\n",
      "am \t\t\t [2:-4] letters 2 and 3\n",
      "A \t\t\t [-1] last letter, output reverse of string from -1 upto bni 0\n",
      "S \t\t\t [-2:-1] second to last letter, output reverse of string from -2 upto bni -1\n",
      "S \t\t\t [6:] second to last letter\n",
      "USA \t\t\t [5:] last 3 letters\n",
      "USA \t\t\t [5:99] last 3 letters, string is only up to index 7\n",
      "USA \t\t\t [-3:] last 3 letters, output reverse of string from -3 upto bni 0\n",
      "ASU maeT \t\t [::-1] reverse\n",
      "eT \t\t\t [1::-1] output reverse of string upto 1\n",
      "aeT \t\t\t [2::-1]output reverse of string upto 2\n",
      "U maeT \t\t\t [-3::-1]output reverse of string upto -3\n",
      "maeT \t\t\t [-5::-1]output reverse of string upto -3\n"
     ]
    }
   ],
   "source": [
    "# Index [:]\n",
    "print('Index [:]', end='\\n'*2)\n",
    "team_name = 'Team USA'\n",
    "\n",
    "print(team_name, '\\t'*2, 'Full Team Name')\n",
    "print(len(team_name), '\\t'*3, 'length of string', end='\\n'*2)\n",
    "\n",
    "print('variable_x[i:j] means output everything in variable_x from offest i up to but not including offset j')\n",
    "print(team_name[:], '\\t'*2, '[:] output full everything')\n",
    "print(team_name[0], '\\t'*3, '[0] first letter')\n",
    "print(team_name[0:1], '\\t'*3, '[0:1] first letter, output from 0 upto but not including 1')\n",
    "print(team_name[1], '\\t'*3, '[1] second letter')\n",
    "print(team_name[0:0], '\\t'*3, '[0:0] output from 0 upto but not including 0')\n",
    "print(team_name[1:2], '\\t'*3, '[1:2] second letter, output from 1 upto but not including 2')\n",
    "print(team_name[0:2], '\\t'*3, '[0:2] first two letters')\n",
    "print(team_name[2:4], '\\t'*3, '[2:4] letters 2 and 3, output from 2 upto but not including 4')\n",
    "print(team_name[2:-4], '\\t'*3, '[2:-4] letters 2 and 3')\n",
    "print(team_name[-1], '\\t'*3, '[-1] last letter, output reverse of string from -1 upto bni 0')\n",
    "print(team_name[-2:-1], '\\t'*3, '[-2:-1] second to last letter, output reverse of string from -2 upto bni -1')\n",
    "print(team_name[6], '\\t'*3, '[6:] second to last letter')\n",
    "print(team_name[5:], '\\t'*3, '[5:] last 3 letters')\n",
    "print(team_name[5:99], '\\t'*3, '[5:99] last 3 letters, string is only up to index 7')\n",
    "print(team_name[-3:], '\\t'*3, '[-3:] last 3 letters, output reverse of string from -3 upto bni 0')\n",
    "print(team_name[::-1], '\\t'*2, '[::-1] reverse')\n",
    "print(team_name[1::-1], '\\t'*3, '[1::-1] output reverse of string upto 1')\n",
    "print(team_name[2::-1], '\\t'*3, '[2::-1]output reverse of string upto 2')\n",
    "print(team_name[-3::-1], '\\t'*3, '[-3::-1]output reverse of string upto -3')\n",
    "print(team_name[-5::-1], '\\t'*3, '[-5::-1]output reverse of string upto -3')"
   ]
  },
  {
   "cell_type": "code",
   "execution_count": null,
   "id": "b5fef671",
   "metadata": {},
   "outputs": [],
   "source": []
  }
 ],
 "metadata": {
  "kernelspec": {
   "display_name": "Python 3 (ipykernel)",
   "language": "python",
   "name": "python3"
  },
  "language_info": {
   "codemirror_mode": {
    "name": "ipython",
    "version": 3
   },
   "file_extension": ".py",
   "mimetype": "text/x-python",
   "name": "python",
   "nbconvert_exporter": "python",
   "pygments_lexer": "ipython3",
   "version": "3.9.12"
  }
 },
 "nbformat": 4,
 "nbformat_minor": 5
}
