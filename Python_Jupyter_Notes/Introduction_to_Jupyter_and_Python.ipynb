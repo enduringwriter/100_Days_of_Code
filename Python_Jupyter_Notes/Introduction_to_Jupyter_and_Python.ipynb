{
 "cells": [
  {
   "cell_type": "markdown",
   "id": "86f7f0fc",
   "metadata": {},
   "source": [
    "# Markdown"
   ]
  },
  {
   "cell_type": "code",
   "execution_count": 3,
   "id": "b97d2fe3",
   "metadata": {
    "scrolled": false
   },
   "outputs": [
    {
     "name": "stdout",
     "output_type": "stream",
     "text": [
      "hey\n",
      "howdy\n",
      "hello\n",
      "hi\n"
     ]
    }
   ],
   "source": [
    "print('hey')\n",
    "print('howdy')\n",
    "print('hello')\n",
    "print('hi')"
   ]
  },
  {
   "cell_type": "code",
   "execution_count": null,
   "id": "82ea8025",
   "metadata": {},
   "outputs": [],
   "source": [
    "print('hey')\n",
    "print('howdy')\n",
    "print('hello')\n",
    "print('hi')\n",
    "print('control + / to comment all code that is highlighted')"
   ]
  },
  {
   "cell_type": "code",
   "execution_count": null,
   "id": "472b962a",
   "metadata": {},
   "outputs": [],
   "source": []
  },
  {
   "cell_type": "code",
   "execution_count": 4,
   "id": "3b1dea37",
   "metadata": {},
   "outputs": [
    {
     "name": "stdout",
     "output_type": "stream",
     "text": [
      "hi\n"
     ]
    }
   ],
   "source": [
    "print('hi')"
   ]
  },
  {
   "cell_type": "code",
   "execution_count": 139,
   "id": "a1470b2a",
   "metadata": {
    "scrolled": true
   },
   "outputs": [
    {
     "name": "stdout",
     "output_type": "stream",
     "text": [
      "hold cmd + left click cursor each new line\n",
      "hold cmd + left click cursor each new line\n",
      "hold cmd + left click cursor each new line\n",
      "hold cmd + left click cursor each new line\n",
      "hold cmd + left click cursor each new line\n"
     ]
    }
   ],
   "source": [
    "print('hold cmd + left click cursor each new line')\n",
    "print('hold cmd + left click cursor each new line')\n",
    "print('hold cmd + left click cursor each new line')\n",
    "print('hold cmd + left click cursor each new line')\n",
    "print('hold cmd + left click cursor each new line')"
   ]
  },
  {
   "cell_type": "code",
   "execution_count": 140,
   "id": "ef682703",
   "metadata": {},
   "outputs": [
    {
     "name": "stdout",
     "output_type": "stream",
     "text": [
      "click l for line number\n",
      "click shift l for all line number\n"
     ]
    }
   ],
   "source": [
    "print('click l for line number')\n",
    "print('click shift l for all line number')"
   ]
  },
  {
   "cell_type": "code",
   "execution_count": null,
   "id": "d9992b16",
   "metadata": {},
   "outputs": [],
   "source": [
    "print('command z to undo')\n",
    "print('command shift z to redo')"
   ]
  },
  {
   "cell_type": "code",
   "execution_count": 2,
   "id": "6cd44473",
   "metadata": {
    "scrolled": true
   },
   "outputs": [
    {
     "name": "stdout",
     "output_type": "stream",
     "text": [
      "hold cmd + left click cursor\n",
      "hold cmd + left click cursor\n",
      "click l for line number\n",
      "click shift l for all line number\n",
      "hold cmd + left click cursor\n",
      "hold cmd + left click cursor\n",
      "hold cmd + left click cursor\n"
     ]
    }
   ],
   "source": [
    "print('hold cmd + left click cursor')\n",
    "print('hold cmd + left click cursor')\n",
    "print('click l for line number')\n",
    "print('click shift l for all line number')\n",
    "print('hold cmd + left click cursor')\n",
    "print('hold cmd + left click cursor')\n",
    "print('hold cmd + left click cursor')"
   ]
  },
  {
   "cell_type": "code",
   "execution_count": null,
   "id": "843ced37",
   "metadata": {},
   "outputs": [],
   "source": []
  },
  {
   "cell_type": "code",
   "execution_count": 4,
   "id": "8e63bf51",
   "metadata": {},
   "outputs": [
    {
     "name": "stdout",
     "output_type": "stream",
     "text": [
      "use ; to separate defined variables\n",
      "\n",
      "mewo woof hello!!\n",
      "4\n",
      "\n"
     ]
    }
   ],
   "source": [
    "# use ; to separate defined variables\n",
    "print(\"use ; to separate defined variables\", end=\"\\n\"*2)\n",
    "\n",
    "cat = 'mewo'; dog = 'woof'; parrot = 'hello'\n",
    "print(cat, dog, parrot, end = '!!\\n')\n",
    "print(len(dog))\n",
    "print(end='\\n')"
   ]
  },
  {
   "cell_type": "code",
   "execution_count": 24,
   "id": "fbb4db91",
   "metadata": {},
   "outputs": [
    {
     "name": "stdout",
     "output_type": "stream",
     "text": [
      "good day\n",
      "GOOD DAY\n"
     ]
    }
   ],
   "source": [
    "day = 'Good Day'\n",
    "print(day.lower())\n",
    "print(day.upper())"
   ]
  },
  {
   "cell_type": "code",
   "execution_count": 28,
   "id": "ce9fa60d",
   "metadata": {},
   "outputs": [
    {
     "data": {
      "text/plain": [
       "'2050'"
      ]
     },
     "execution_count": 28,
     "metadata": {},
     "output_type": "execute_result"
    }
   ],
   "source": [
    "'20' + '50'"
   ]
  },
  {
   "cell_type": "code",
   "execution_count": 31,
   "id": "2673a3a2",
   "metadata": {},
   "outputs": [
    {
     "data": {
      "text/plain": [
       "builtin_function_or_method"
      ]
     },
     "execution_count": 31,
     "metadata": {},
     "output_type": "execute_result"
    }
   ],
   "source": [
    "type(eval)"
   ]
  },
  {
   "cell_type": "code",
   "execution_count": 34,
   "id": "03a0059b",
   "metadata": {},
   "outputs": [
    {
     "data": {
      "text/plain": [
       "int"
      ]
     },
     "execution_count": 34,
     "metadata": {},
     "output_type": "execute_result"
    }
   ],
   "source": [
    "'20' + '50'\n",
    "type(eval('20 + 50'))"
   ]
  },
  {
   "cell_type": "code",
   "execution_count": 35,
   "id": "42850700",
   "metadata": {},
   "outputs": [
    {
     "name": "stdout",
     "output_type": "stream",
     "text": [
      "1\n"
     ]
    }
   ],
   "source": [
    "check = 'a a a a B b b c c'\n",
    "print(check.count(\"B\"))"
   ]
  },
  {
   "cell_type": "code",
   "execution_count": 45,
   "id": "799a3ce5",
   "metadata": {},
   "outputs": [
    {
     "name": "stdout",
     "output_type": "stream",
     "text": [
      "\\Please #@ clean up messy #@docstring that has multiple lines in string\n",
      "Please clean up messydocstring that has multiple lines in string\n"
     ]
    }
   ],
   "source": [
    "messy = \"\"\"\\\\Please #@ clean up messy #@docstring that has multiple lines in string\"\"\"\n",
    "print(messy)\n",
    "clean = messy.replace('\\\\','').replace(' #@','')\n",
    "print(clean)"
   ]
  },
  {
   "cell_type": "code",
   "execution_count": 51,
   "id": "7be18ef3",
   "metadata": {},
   "outputs": [
    {
     "name": "stdout",
     "output_type": "stream",
     "text": [
      "technologically\n",
      "techno\n",
      "l\n",
      "logically\n",
      "logic\n"
     ]
    }
   ],
   "source": [
    "robot = 'technologically'\n",
    "print(robot)\n",
    "print(robot[0:6])\n",
    "print(robot[6])\n",
    "print(robot[6:])\n",
    "print(robot[6:11])"
   ]
  },
  {
   "cell_type": "code",
   "execution_count": 63,
   "id": "5c4a78ea",
   "metadata": {},
   "outputs": [
    {
     "name": "stdout",
     "output_type": "stream",
     "text": [
      "True\n",
      "False\n",
      "15\n",
      "6\n",
      "14\n"
     ]
    }
   ],
   "source": [
    "robot = 'technologically'\n",
    "print(robot.endswith('y'))\n",
    "print(robot.endswith('Y'))\n",
    "print(len(robot))\n",
    "print(robot.find('l'))\n",
    "print(robot.find('y'))"
   ]
  },
  {
   "cell_type": "code",
   "execution_count": 73,
   "id": "aa8d11d0",
   "metadata": {},
   "outputs": [
    {
     "name": "stdout",
     "output_type": "stream",
     "text": [
      "y\n",
      "l\n",
      "logic\n"
     ]
    }
   ],
   "source": [
    "robot = 'technologically'\n",
    "print(robot[-1])\n",
    "print(robot[-9])\n",
    "print(robot[-9:-4])"
   ]
  },
  {
   "cell_type": "code",
   "execution_count": 93,
   "id": "cde73f89",
   "metadata": {},
   "outputs": [
    {
     "name": "stdout",
     "output_type": "stream",
     "text": [
      "p1y2t3h4o5n6i7c8\n",
      "using .replace() or indexing is an inefficent method to extract the string\n",
      "p1y2t3h4o5n6i7c8\n",
      "pythonic\n",
      "12345678\n"
     ]
    }
   ],
   "source": [
    "code = 'p1y2t3h4o5n6i7c8'\n",
    "print(code)\n",
    "print('using .replace() or indexing is an inefficent method to extract the string')\n",
    "print(code[0::1])\n",
    "print(code[0::2]) #string begins at index 0\n",
    "print(code[1::2]) #numbers begin at index 1"
   ]
  },
  {
   "cell_type": "code",
   "execution_count": 123,
   "id": "8dfbcad5",
   "metadata": {},
   "outputs": [
    {
     "name": "stdout",
     "output_type": "stream",
     "text": [
      "['texas', 'is', 'surely', 'the', 'best', 'state']\n",
      "6\n",
      "t\n"
     ]
    }
   ],
   "source": [
    "text = 'texas is surely the best state'\n",
    "print(text.split())\n",
    "print(len(text.split()))\n",
    "print(text[0])"
   ]
  },
  {
   "cell_type": "code",
   "execution_count": 124,
   "id": "9f1d7222",
   "metadata": {},
   "outputs": [
    {
     "name": "stdout",
     "output_type": "stream",
     "text": [
      "['texas', 'is', 'surely', 'the', 'best', 'state']\n",
      "texas\n",
      "['texas']\n"
     ]
    },
    {
     "data": {
      "text/plain": [
       "['texas', 'surely', 'best']"
      ]
     },
     "execution_count": 124,
     "metadata": {},
     "output_type": "execute_result"
    }
   ],
   "source": [
    "text = 'texas is surely the best state'\n",
    "text_s = text.split()\n",
    "print(text_s)\n",
    "print(text_s[0])\n",
    "print(text_s[0:1:3])\n",
    "text_split[0:5:2]"
   ]
  },
  {
   "cell_type": "code",
   "execution_count": 141,
   "id": "8775bba8",
   "metadata": {},
   "outputs": [
    {
     "name": "stdout",
     "output_type": "stream",
     "text": [
      "texas is surely the best state\n",
      "['texas', 'is', 'surely', 'the', 'best', 'state']\n",
      "['texas', 'surely']\n"
     ]
    }
   ],
   "source": [
    "text = 'texas is surely the best state'\n",
    "print(text)\n",
    "text_s = text.split()\n",
    "print(text_s)\n",
    "s1 = slice(0,4,2)           #slice not working correctly\n",
    "print(text.split()[s1])     #not working correctly"
   ]
  },
  {
   "cell_type": "code",
   "execution_count": 146,
   "id": "e747f7de",
   "metadata": {},
   "outputs": [
    {
     "name": "stdout",
     "output_type": "stream",
     "text": [
      "True\n",
      "True\n"
     ]
    }
   ],
   "source": [
    "text = 'texas is surely the best state'\n",
    "text_s = text.split()\n",
    "print('texas' in text)\n",
    "print('texas' in text_s)"
   ]
  },
  {
   "cell_type": "code",
   "execution_count": 148,
   "id": "11046693",
   "metadata": {},
   "outputs": [
    {
     "name": "stdout",
     "output_type": "stream",
     "text": [
      "I received a total of $5,000\n",
      "['I received a total of ', '5,000']\n",
      "I received a total of \n"
     ]
    }
   ],
   "source": [
    "payme = 'I received a total of $5,000'\n",
    "print(payme)\n",
    "print(payme.split('$'))\n",
    "print(payme.split('$')[0])"
   ]
  },
  {
   "cell_type": "code",
   "execution_count": null,
   "id": "adf0b055",
   "metadata": {},
   "outputs": [],
   "source": []
  }
 ],
 "metadata": {
  "kernelspec": {
   "display_name": "Python 3 (ipykernel)",
   "language": "python",
   "name": "python3"
  },
  "language_info": {
   "codemirror_mode": {
    "name": "ipython",
    "version": 3
   },
   "file_extension": ".py",
   "mimetype": "text/x-python",
   "name": "python",
   "nbconvert_exporter": "python",
   "pygments_lexer": "ipython3",
   "version": "3.9.12"
  }
 },
 "nbformat": 4,
 "nbformat_minor": 5
}
