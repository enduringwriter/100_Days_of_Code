{
 "cells": [
  {
   "cell_type": "code",
   "execution_count": 3,
   "id": "2dad1893",
   "metadata": {},
   "outputs": [
    {
     "name": "stdout",
     "output_type": "stream",
     "text": [
      "Range:  50000\n",
      "Example of time format:  1670113307.663646\n",
      "Count of Boolean True:  24956\n",
      "Count of Boolean False:  25044\n",
      "\n",
      "Count of a = 0.00043511390686035156\n",
      "24956\n",
      "Sum of a = 0.0005888938903808594\n",
      "24956\n"
     ]
    }
   ],
   "source": [
    "# Which executes faster: method count() or sum()\n",
    "\n",
    "import random\n",
    "import time\n",
    "\n",
    "a = [bool(random.getrandbits(1)) for x in range(50000)]\n",
    "print('Range: ', len(a))\n",
    "print('Example of time format: ', time.time())\n",
    "print('Count of Boolean True: ', a.count(True))\n",
    "print('Count of Boolean False: ', a.count(False), end='\\n'*2)\n",
    "\n",
    "\n",
    "def count_of_a (a):\n",
    "    tc = time.time()\n",
    "    counting_a = a.count(True)\n",
    "    tec = time.time() - tc     # time elapsed count\n",
    "    print('Count of a = ' + str(tec))\n",
    "    return counting_a\n",
    "\n",
    "\n",
    "# str(time.time() - initial_time)\n",
    "\n",
    "\n",
    "def sum_of_a (a):\n",
    "    ts = time.time()\n",
    "    summing_a = sum(a)\n",
    "    tes = time.time() - ts     # time elapsed sum\n",
    "    print('Sum of a = ' + str(tes))\n",
    "    return summing_a\n",
    "\n",
    "\n",
    "print(count_of_a(a))\n",
    "print(sum_of_a(a))\n",
    "\n",
    "#print(tes-tec)     # why can't I subtract tes-tec\n",
    "\n",
    "# resource\n",
    "# https://stackoverflow.com/questions/12765833/counting-the-number-of-true-booleans-in-a-python-list"
   ]
  }
 ],
 "metadata": {
  "kernelspec": {
   "display_name": "Python 3 (ipykernel)",
   "language": "python",
   "name": "python3"
  },
  "language_info": {
   "codemirror_mode": {
    "name": "ipython",
    "version": 3
   },
   "file_extension": ".py",
   "mimetype": "text/x-python",
   "name": "python",
   "nbconvert_exporter": "python",
   "pygments_lexer": "ipython3",
   "version": "3.9.12"
  }
 },
 "nbformat": 4,
 "nbformat_minor": 5
}
