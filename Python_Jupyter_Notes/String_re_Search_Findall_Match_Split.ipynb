{
 "cells": [
  {
   "cell_type": "code",
   "execution_count": 21,
   "id": "efde05d8",
   "metadata": {},
   "outputs": [
    {
     "name": "stdout",
     "output_type": "stream",
     "text": [
      "/usr/home:lumberjack\n",
      "\n",
      "using re.split\n",
      "['', 'usr', 'home', 'lumberjack']\n",
      "\n",
      "using native python .split twice and index assignment\n",
      "['', 'usr', 'home:lumberjack']\n",
      "['home', 'lumberjack']\n",
      "['', 'usr', '', 'home', 'lumberjack']\n"
     ]
    }
   ],
   "source": [
    "# re.split vs native split()\n",
    "# split a string into substrings by a specified variable\n",
    "\n",
    "x = '/usr/home:lumberjack'\n",
    "print(x, end='\\n'*2)\n",
    "\n",
    "print('using re.split')\n",
    "x_list = re.split('[/:]', x)\n",
    "print(x_list, end='\\n'*2)\n",
    "\n",
    "print('using native python .split twice and index assignment')\n",
    "y_list = x.split('/')\n",
    "print(y_list)\n",
    "z_list = y_list[2].split(':')\n",
    "print(z_list)\n",
    "y_list[2] = ''\n",
    "yz = y_list + z_list\n",
    "print(yz)"
   ]
  },
  {
   "cell_type": "code",
   "execution_count": null,
   "id": "cd63f94e",
   "metadata": {},
   "outputs": [],
   "source": []
  }
 ],
 "metadata": {
  "kernelspec": {
   "display_name": "Python 3 (ipykernel)",
   "language": "python",
   "name": "python3"
  },
  "language_info": {
   "codemirror_mode": {
    "name": "ipython",
    "version": 3
   },
   "file_extension": ".py",
   "mimetype": "text/x-python",
   "name": "python",
   "nbconvert_exporter": "python",
   "pygments_lexer": "ipython3",
   "version": "3.9.12"
  }
 },
 "nbformat": 4,
 "nbformat_minor": 5
}
