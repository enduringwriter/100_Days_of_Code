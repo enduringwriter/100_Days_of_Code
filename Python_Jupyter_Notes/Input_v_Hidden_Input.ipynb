{
 "cells": [
  {
   "cell_type": "code",
   "execution_count": 1,
   "id": "0a643017",
   "metadata": {},
   "outputs": [
    {
     "name": "stdout",
     "output_type": "stream",
     "text": [
      "Enter your name: Keith\n",
      "Keith\n",
      "What is your secret: ········\n",
      "7\n",
      "How old are you? 46\n",
      "46\n"
     ]
    }
   ],
   "source": [
    "from getpass import getpass\n",
    "\n",
    "name = input('Enter your name: ')\n",
    "print(name)\n",
    "\n",
    "secret = getpass('What is your secret: ')\n",
    "print(secret)\n",
    "\n",
    "age = int(input('How old are you? '))\n",
    "#except ValueError     # doesn't work\n",
    "#    pass\n",
    "print(age)"
   ]
  },
  {
   "cell_type": "code",
   "execution_count": 3,
   "id": "3f461ab9",
   "metadata": {},
   "outputs": [
    {
     "data": {
      "text/plain": [
       "'keithstateson'"
      ]
     },
     "execution_count": 3,
     "metadata": {},
     "output_type": "execute_result"
    }
   ],
   "source": [
    "from getpass import getuser\n",
    "\n",
    "getuser()"
   ]
  },
  {
   "cell_type": "code",
   "execution_count": null,
   "id": "7fc34249",
   "metadata": {},
   "outputs": [],
   "source": []
  }
 ],
 "metadata": {
  "kernelspec": {
   "display_name": "Python 3 (ipykernel)",
   "language": "python",
   "name": "python3"
  },
  "language_info": {
   "codemirror_mode": {
    "name": "ipython",
    "version": 3
   },
   "file_extension": ".py",
   "mimetype": "text/x-python",
   "name": "python",
   "nbconvert_exporter": "python",
   "pygments_lexer": "ipython3",
   "version": "3.9.12"
  }
 },
 "nbformat": 4,
 "nbformat_minor": 5
}
